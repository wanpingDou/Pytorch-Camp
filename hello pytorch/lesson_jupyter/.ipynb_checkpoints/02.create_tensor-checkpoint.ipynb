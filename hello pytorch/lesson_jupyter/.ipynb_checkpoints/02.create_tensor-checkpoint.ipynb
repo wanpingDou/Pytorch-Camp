{
 "cells": [
  {
   "cell_type": "code",
   "execution_count": 1,
   "metadata": {},
   "outputs": [],
   "source": [
    "# -*- coding:utf-8 -*-\n",
    "\"\"\"\n",
    "@file name  : lesson-02.py\n",
    "@author     : TingsongYu https://github.com/TingsongYu\n",
    "@date       : 2018-08-26\n",
    "@brief      : 张量的创建\n",
    "\"\"\"\n",
    "import torch\n",
    "import numpy as np\n",
    "torch.manual_seed(1)\n",
    "flag = True"
   ]
  },
  {
   "cell_type": "markdown",
   "metadata": {},
   "source": [
    "# 1. 通过torch.tensor创建张量"
   ]
  },
  {
   "cell_type": "code",
   "execution_count": 2,
   "metadata": {},
   "outputs": [
    {
     "name": "stdout",
     "output_type": "stream",
     "text": [
      "ndarray的数据类型： float64\n",
      "tensor([[1., 1., 1.],\n",
      "        [1., 1., 1.],\n",
      "        [1., 1., 1.]], dtype=torch.float64)\n"
     ]
    }
   ],
   "source": [
    "# ===============================  example 1 ===============================\n",
    "if flag:\n",
    "    arr = np.ones((3, 3))\n",
    "    print(\"ndarray的数据类型：\", arr.dtype)\n",
    "    if torch.cuda.is_available():\n",
    "        t = torch.tensor(arr, device='cuda')\n",
    "    else:\n",
    "        t = torch.tensor(arr)\n",
    "\n",
    "    print(t)\n"
   ]
  },
  {
   "cell_type": "markdown",
   "metadata": {},
   "source": [
    "# 2. 通过torch.from_numpy创建张量"
   ]
  },
  {
   "cell_type": "code",
   "execution_count": 3,
   "metadata": {},
   "outputs": [
    {
     "name": "stdout",
     "output_type": "stream",
     "text": [
      "\n",
      "修改tensor\n",
      "\n",
      "numpy array: \n",
      "[[-1  2  3]\n",
      " [ 4  5  6]]\n",
      "\n",
      "tensor : \n",
      "tensor([[-1,  2,  3],\n",
      "        [ 4,  5,  6]])\n"
     ]
    }
   ],
   "source": [
    "# ===============================  example 2 ===============================\n",
    "if flag:\n",
    "    arr = np.array([[1, 2, 3], [4, 5, 6]])\n",
    "    t = torch.from_numpy(arr)\n",
    "    # print(\"numpy array: \", arr)\n",
    "    # print(\"tensor : \", t)\n",
    "\n",
    "    # print(\"\\n修改arr\")\n",
    "    # arr[0, 0] = 0\n",
    "    # print(\"numpy array: \", arr)\n",
    "    # print(\"tensor : \", t)\n",
    "\n",
    "    print(\"\\n修改tensor\")\n",
    "    t[0, 0] = -1\n",
    "    print(\"\\nnumpy array: \")\n",
    "    print(arr)\n",
    "    print(\"\\ntensor : \")\n",
    "    print(t)\n",
    "\n"
   ]
  },
  {
   "cell_type": "markdown",
   "metadata": {},
   "source": [
    "# 3. 通过torch.zeros创建张量"
   ]
  },
  {
   "cell_type": "code",
   "execution_count": 4,
   "metadata": {},
   "outputs": [
    {
     "name": "stdout",
     "output_type": "stream",
     "text": [
      "tensor([[0, 0, 0],\n",
      "        [0, 0, 0],\n",
      "        [0, 0, 0]]) \n",
      " tensor([[0, 0, 0],\n",
      "        [0, 0, 0],\n",
      "        [0, 0, 0]])\n",
      "140609010023736 140609010023736 True\n"
     ]
    }
   ],
   "source": [
    "# ===============================  example 3 ===============================\n",
    "if flag:\n",
    "    out_t = torch.tensor([1])\n",
    "\n",
    "    t = torch.zeros((3, 3), out=out_t)\n",
    "\n",
    "    print(t, '\\n', out_t)\n",
    "    print(id(t), id(out_t), id(t) == id(out_t))"
   ]
  },
  {
   "cell_type": "markdown",
   "metadata": {},
   "source": [
    "# 4. 通过torch.full创建全1张量"
   ]
  },
  {
   "cell_type": "code",
   "execution_count": 5,
   "metadata": {},
   "outputs": [
    {
     "name": "stdout",
     "output_type": "stream",
     "text": [
      "tensor([[1., 1., 1.],\n",
      "        [1., 1., 1.],\n",
      "        [1., 1., 1.]])\n"
     ]
    }
   ],
   "source": [
    "# ===============================  example 4 ===============================\n",
    "if flag:\n",
    "    t = torch.full((3, 3), 1)\n",
    "    print(t)"
   ]
  },
  {
   "cell_type": "markdown",
   "metadata": {},
   "source": [
    "# 5. 通过torch.arange创建等差数列张量"
   ]
  },
  {
   "cell_type": "code",
   "execution_count": 6,
   "metadata": {},
   "outputs": [
    {
     "name": "stdout",
     "output_type": "stream",
     "text": [
      "tensor([2, 4, 6, 8])\n"
     ]
    }
   ],
   "source": [
    "# ===============================  example 5 ===============================\n",
    "if flag:\n",
    "    t = torch.arange(2, 10, 2)\n",
    "    print(t)"
   ]
  },
  {
   "cell_type": "markdown",
   "metadata": {},
   "source": [
    "# 6. 通过torch.linspace创建均分数列张量"
   ]
  },
  {
   "cell_type": "code",
   "execution_count": 7,
   "metadata": {},
   "outputs": [
    {
     "name": "stdout",
     "output_type": "stream",
     "text": [
      "tensor([ 2.0000,  3.6000,  5.2000,  6.8000,  8.4000, 10.0000])\n"
     ]
    }
   ],
   "source": [
    "# ===============================  example 6 ===============================\n",
    "if flag:\n",
    "    # t = torch.linspace(2, 10, 5)\n",
    "    t = torch.linspace(2, 10, 6)\n",
    "    print(t)"
   ]
  },
  {
   "cell_type": "markdown",
   "metadata": {},
   "source": [
    "# 7. 通过torch.normal创建正态分布张量"
   ]
  },
  {
   "cell_type": "code",
   "execution_count": 8,
   "metadata": {},
   "outputs": [
    {
     "name": "stdout",
     "output_type": "stream",
     "text": [
      "mean:tensor([1., 2., 3., 4.])\n",
      "std:1\n",
      "tensor([1.6614, 2.2669, 3.0617, 4.6213])\n"
     ]
    }
   ],
   "source": [
    "# ===============================  example 7 ===============================\n",
    "if flag:\n",
    "    # mean：张量 std: 张量\n",
    "    # mean = torch.arange(1, 5, dtype=torch.float)\n",
    "    # std = torch.arange(1, 5, dtype=torch.float)\n",
    "    # t_normal = torch.normal(mean, std)\n",
    "    # print(\"mean:{}\\nstd:{}\".format(mean, std))\n",
    "    # print(t_normal)\n",
    "\n",
    "    # mean：标量 std: 标量\n",
    "    # t_normal = torch.normal(0., 1., size=(4,))\n",
    "    # print(t_normal)\n",
    "\n",
    "    # mean：张量 std: 标量\n",
    "    mean = torch.arange(1, 5, dtype=torch.float)\n",
    "    std = 1\n",
    "    t_normal = torch.normal(mean, std)\n",
    "    print(\"mean:{}\\nstd:{}\".format(mean, std))\n",
    "    print(t_normal)"
   ]
  },
  {
   "cell_type": "code",
   "execution_count": null,
   "metadata": {},
   "outputs": [],
   "source": []
  }
 ],
 "metadata": {
  "kernelspec": {
   "display_name": "conda_pytorch_py3",
   "language": "python",
   "name": "conda_pytorch_py3"
  },
  "language_info": {
   "codemirror_mode": {
    "name": "ipython",
    "version": 3
   },
   "file_extension": ".py",
   "mimetype": "text/x-python",
   "name": "python",
   "nbconvert_exporter": "python",
   "pygments_lexer": "ipython3",
   "version": "3.6.5"
  }
 },
 "nbformat": 4,
 "nbformat_minor": 4
}
