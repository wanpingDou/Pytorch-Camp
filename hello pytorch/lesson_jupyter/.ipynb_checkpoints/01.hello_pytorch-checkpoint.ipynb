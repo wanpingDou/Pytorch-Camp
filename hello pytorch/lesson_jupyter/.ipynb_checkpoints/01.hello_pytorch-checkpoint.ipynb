{
 "cells": [
  {
   "cell_type": "code",
   "execution_count": 1,
   "metadata": {},
   "outputs": [
    {
     "name": "stdout",
     "output_type": "stream",
     "text": [
      "mean:tensor([1., 2., 3., 4.])\n",
      "std:1\n",
      "tensor([1.6614, 2.2669, 3.0617, 4.6213])\n"
     ]
    }
   ],
   "source": [
    "!python ../lesson/lesson-02/lesson-02.py"
   ]
  },
  {
   "cell_type": "code",
   "execution_count": 2,
   "metadata": {},
   "outputs": [],
   "source": [
    "# -*- coding:utf-8 -*-\n",
    "\"\"\"\n",
    "@file name  : hello pytorch.py\n",
    "@author     : TingsongYu https://github.com/TingsongYu\n",
    "@date       : 2020-07-24\n",
    "@brief      : 问世代码\n",
    "\"\"\"\n",
    "\n",
    "import torch"
   ]
  },
  {
   "cell_type": "code",
   "execution_count": 3,
   "metadata": {},
   "outputs": [
    {
     "name": "stdout",
     "output_type": "stream",
     "text": [
      "Hello World, Hello PyTorch 1.4.0\n",
      "\n",
      "CUDA is available:False\n"
     ]
    }
   ],
   "source": [
    "print(\"Hello World, Hello PyTorch {}\".format(torch.__version__))\n",
    "\n",
    "if torch.cuda.is_available():\n",
    "    print(\"\\nCUDA is available:{}, version is {}\".format(torch.cuda.is_available(), torch.version.cuda))\n",
    "    print(\"\\ndevice_name: {}\".format(torch.cuda.get_device_name(0)))\n",
    "else:\n",
    "    print(\"\\nCUDA is available:{}\".format(torch.cuda.is_available()))"
   ]
  },
  {
   "cell_type": "code",
   "execution_count": null,
   "metadata": {},
   "outputs": [],
   "source": []
  }
 ],
 "metadata": {
  "kernelspec": {
   "display_name": "conda_pytorch_py3",
   "language": "python",
   "name": "conda_pytorch_py3"
  },
  "language_info": {
   "codemirror_mode": {
    "name": "ipython",
    "version": 3
   },
   "file_extension": ".py",
   "mimetype": "text/x-python",
   "name": "python",
   "nbconvert_exporter": "python",
   "pygments_lexer": "ipython3",
   "version": "3.6.5"
  }
 },
 "nbformat": 4,
 "nbformat_minor": 4
}
